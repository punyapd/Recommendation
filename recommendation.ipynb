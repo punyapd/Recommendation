{
 "cells": [
  {
   "cell_type": "code",
   "execution_count": null,
   "metadata": {},
   "outputs": [],
   "source": [
    "def load_image(i):\n",
    "    Image_path=DATASET_PATH+list_directory[index]+\"/\"+augmentedDataframe.loc[i,'filename']\n",
    "    Image_id=augmentedDataframe.loc[i,'filename'].split(\".\")\n",
    "    res=Image_id[0]\n",
    "    image = cv2.imread(Image_path,cv2.IMREAD_COLOR)\n",
    "    resized_img = cv2.resize(image, dsize=(224, 224))\n",
    "    return resized_img,res\n",
    "\n",
    "\n"
   ]
  }
 ],
 "metadata": {
  "kernelspec": {
   "display_name": "env",
   "language": "python",
   "name": "python3"
  },
  "language_info": {
   "name": "python",
   "version": "3.10.6"
  },
  "orig_nbformat": 4,
  "vscode": {
   "interpreter": {
    "hash": "6b2f5b116f31f97edfbfd3a6b15c7063175069dd7c6f9fd57f204795f218cb40"
   }
  }
 },
 "nbformat": 4,
 "nbformat_minor": 2
}
